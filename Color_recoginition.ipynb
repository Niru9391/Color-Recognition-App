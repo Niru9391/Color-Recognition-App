{
 "cells": [
  {
   "cell_type": "code",
   "execution_count": 5,
   "id": "b8a58162-afd2-4190-883a-0366ebb89379",
   "metadata": {},
   "outputs": [],
   "source": [
    "import numpy as np\n",
    "import pandas as pd\n",
    "import cv2"
   ]
  },
  {
   "cell_type": "code",
   "execution_count": 6,
   "id": "557ecf30-9e32-43d1-af10-7fe2adab72c9",
   "metadata": {},
   "outputs": [],
   "source": [
    "img = cv2.imread(\"rb_25611.png\")"
   ]
  },
  {
   "cell_type": "code",
   "execution_count": 9,
   "id": "e54739ba-3b28-44d4-ab25-1254176969b1",
   "metadata": {},
   "outputs": [],
   "source": [
    "index=[\"color\", \"color_name\", \"hex\", \"R\", \"G\", \"B\"]\n",
    "csv_color = pd.read_csv('colors.csv', names=index, header=None)"
   ]
  },
  {
   "cell_type": "code",
   "execution_count": 11,
   "id": "367012ae-8135-4f54-8f99-6168f7a8775f",
   "metadata": {},
   "outputs": [],
   "source": [
    "##Global variable\n",
    "clicked = False\n",
    "r = g = b = xpos = ypos = 0 "
   ]
  },
  {
   "cell_type": "code",
   "execution_count": 13,
   "id": "1a3cc35e-e35b-441c-8deb-bf5dc7103f2f",
   "metadata": {},
   "outputs": [],
   "source": [
    "def recognize_color(R,G,B):\n",
    "    minimum = 1000\n",
    "    for i in range(len(csv_color)):\n",
    "        d = abs(R- int(csv_color.loc[i,\"R\"])) + abs(G- int(csv_color.loc[i,\"G\"]))+ abs(B- int(csv_color.loc[i,\"B\"]))\n",
    "        if(d<=minimum):\n",
    "            minimum = d\n",
    "            cname = csv_color.loc[i,\"color_name\"]\n",
    "    return cname"
   ]
  },
  {
   "cell_type": "code",
   "execution_count": 15,
   "id": "937d87e1-cc5b-4864-8beb-538917ee64b1",
   "metadata": {},
   "outputs": [],
   "source": [
    "## for double clilk\n",
    "def mouse_click(event, x, y,flags,params):\n",
    "    if event == cv2.EVENT_LBUTTONDBLCLK:\n",
    "        global b,g,r,xpos,ypos, clicked\n",
    "        clicked = True\n",
    "        xpos = x\n",
    "        ypos = y\n",
    "        b,g,r = img[y,x]\n",
    "        b = int(b)\n",
    "        g = int(g)\n",
    "        r = int(r)"
   ]
  },
  {
   "cell_type": "code",
   "execution_count": 17,
   "id": "1bea39bb-705b-4ad6-96db-3a3111136dd2",
   "metadata": {},
   "outputs": [],
   "source": [
    "def draw_rectangle_and_text(img, text, b, g, r):\n",
    "    cv2.rectangle(img, (20, 20), (750, 60), (b, g, r), -1)\n",
    "    text_color = (255, 255, 255) if (r + g + b) < 600 else (0, 0, 0)\n",
    "    cv2.putText(img, text, (50, 50), cv2.FONT_HERSHEY_SIMPLEX, 0.8, text_color, 3, cv2.LINE_AA)\n",
    "\n",
    "\n"
   ]
  },
  {
   "cell_type": "code",
   "execution_count": 27,
   "id": "1366cf5b-996c-4c61-93f2-1a10038e7ee4",
   "metadata": {},
   "outputs": [],
   "source": [
    "cv2.namedWindow('Color Recognition App')\n",
    "cv2.setMouseCallback('Color Recognition App', mouse_click)\n",
    "while True:\n",
    "    cv2.imshow(\"Color Recognition App\", img)\n",
    "    if clicked:\n",
    "        color_name = recognize_color(r, g, b)\n",
    "        text = f\"{color_name} R={r} G={g} B={b}\"\n",
    "        draw_rectangle_and_text(img, text, b, g, r)\n",
    "    if cv2.waitKey(20) & 0xFF == 27:\n",
    "        break\n",
    "cv2.destroyAllWindows()\n"
   ]
  },
  {
   "cell_type": "code",
   "execution_count": null,
   "id": "7bd9561d-249c-4b04-84b3-e9fe7f961dad",
   "metadata": {},
   "outputs": [],
   "source": []
  },
  {
   "cell_type": "code",
   "execution_count": null,
   "id": "ecc4d5e7-1238-4ef5-bec0-afb447f7cf19",
   "metadata": {},
   "outputs": [],
   "source": []
  }
 ],
 "metadata": {
  "kernelspec": {
   "display_name": "Python (opencv-env)",
   "language": "python",
   "name": "opencv-env"
  },
  "language_info": {
   "codemirror_mode": {
    "name": "ipython",
    "version": 3
   },
   "file_extension": ".py",
   "mimetype": "text/x-python",
   "name": "python",
   "nbconvert_exporter": "python",
   "pygments_lexer": "ipython3",
   "version": "3.13.1"
  }
 },
 "nbformat": 4,
 "nbformat_minor": 5
}
